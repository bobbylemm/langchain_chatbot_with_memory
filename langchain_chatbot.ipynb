{
 "cells": [
  {
   "cell_type": "code",
   "execution_count": 1,
   "id": "b3c87fa0-e23a-4887-9dc0-875a6af17807",
   "metadata": {},
   "outputs": [],
   "source": [
    "import getpass\n",
    "from dotenv import load_dotenv\n",
    "import os\n",
    "\n",
    "load_dotenv()\n",
    "\n",
    "os.environ[\"LANGCHAIN_TRACING_V2\"] = \"true\"\n",
    "\n",
    "from langchain_openai import ChatOpenAI\n",
    "from langchain_core.messages import HumanMessage\n",
    "model = ChatOpenAI(model=\"gpt-3.5-turbo\")\n"
   ]
  },
  {
   "cell_type": "code",
   "execution_count": 2,
   "id": "c7f85d4c",
   "metadata": {},
   "outputs": [],
   "source": [
    "# we will persist the messages in memory\n",
    "from langgraph.checkpoint.memory import MemorySaver\n",
    "from langgraph.graph import START, StateGraph\n",
    "from langchain_core.messages import BaseMessage, AIMessage\n",
    "from langgraph.graph.message import add_messages\n",
    "from langchain_core.prompts import ChatPromptTemplate, MessagesPlaceholder\n",
    "from typing import Sequence\n",
    "from typing_extensions import Annotated, TypedDict\n",
    "\n",
    "class State(TypedDict):\n",
    "    messages: Annotated[Sequence[BaseMessage], add_messages]\n",
    "    language: str\n",
    "\n",
    "workflow = StateGraph(state_schema=State)\n",
    "\n",
    "# lets add a system prompt to help the LLM work better\n",
    "prompt = ChatPromptTemplate.from_messages(\n",
    "    [(\n",
    "        \"system\",\n",
    "        \"you talk like a DSP advertising operations expert working in Germany. Answer all questions to the best of your ability in {language}.\"\n",
    "    ),\n",
    "     MessagesPlaceholder(variable_name=\"messages\")\n",
    "    ]\n",
    ")\n",
    "\n",
    "def call_openai_model(state: State):\n",
    "    chain = prompt | model\n",
    "    response = chain.invoke(state)\n",
    "    return {\"messages\": [response]}\n",
    "\n",
    "workflow.add_edge(START, \"model\")\n",
    "workflow.add_node(\"model\", call_openai_model)\n",
    "\n",
    "# add the workflow to the memory saver\n",
    "memory = MemorySaver()\n",
    "app = workflow.compile(checkpointer=memory)\n"
   ]
  },
  {
   "cell_type": "code",
   "execution_count": 3,
   "id": "5d245732",
   "metadata": {},
   "outputs": [],
   "source": [
    "# we will add a config to pass to the runnable to enable multiple conversatin threads\n",
    "config = {\n",
    "    \"configurable\": {\"thread_id\": \"abcd12345\"}\n",
    "}"
   ]
  },
  {
   "cell_type": "code",
   "execution_count": 4,
   "id": "f6c244a2",
   "metadata": {},
   "outputs": [
    {
     "name": "stdout",
     "output_type": "stream",
     "text": [
      "|Hello| Do|zie|,| how| can| I| assist| you| today|?||"
     ]
    }
   ],
   "source": [
    "#we will invoke the application here\n",
    "query = \"Hi I am Dozie\"\n",
    "language = \"English\"\n",
    "input_messages = [HumanMessage(content=query)]\n",
    "for chunk, metadata in app.stream({\"messages\": input_messages, \"language\": language}, config, stream_mode=\"messages\"):\n",
    "    if isinstance(chunk, AIMessage):\n",
    "        print(chunk.content, end=\"|\")\n"
   ]
  },
  {
   "cell_type": "code",
   "execution_count": 5,
   "id": "841daf8a",
   "metadata": {},
   "outputs": [
    {
     "name": "stdout",
     "output_type": "stream",
     "text": [
      "|De|in| Name| ist| Do|zie|.||"
     ]
    }
   ],
   "source": [
    "# seeing if the model can remember the name\n",
    "query1 = \"What is my name?\"\n",
    "language = \"Deutsch\"\n",
    "input_messages = [HumanMessage(content=query1)]\n",
    "for chunk, metadata in app.stream({\"messages\": input_messages, \"language\": language}, config, stream_mode=\"messages\"):\n",
    "    if isinstance(chunk, AIMessage):\n",
    "        print(chunk.content, end=\"|\")"
   ]
  },
  {
   "cell_type": "code",
   "execution_count": 6,
   "id": "e46bb59c",
   "metadata": {},
   "outputs": [
    {
     "name": "stdout",
     "output_type": "stream",
     "text": [
      "|Ent|sch|uld|igung|,| ich| habe| keine| Informationen| über| de|inen| Namen|.| Wie| kann| ich| sonst| weiter|h|elf|en|?||"
     ]
    }
   ],
   "source": [
    "# by changing the thread_id, we can see that the model does not remember the name\n",
    "config = {\n",
    "    \"configurable\": {\"thread_id\": \"abcd12345678\"}\n",
    "}\n",
    "input_messages = [HumanMessage(content=query1)]\n",
    "for chunk, metadata in app.stream({\"messages\": input_messages, \"language\": language}, config, stream_mode=\"messages\"):\n",
    "    if isinstance(chunk, AIMessage):\n",
    "        print(chunk.content, end=\"|\")"
   ]
  },
  {
   "cell_type": "code",
   "execution_count": null,
   "id": "649f2b13",
   "metadata": {},
   "outputs": [],
   "source": []
  }
 ],
 "metadata": {
  "kernelspec": {
   "display_name": "venv",
   "language": "python",
   "name": "python3"
  },
  "language_info": {
   "codemirror_mode": {
    "name": "ipython",
    "version": 3
   },
   "file_extension": ".py",
   "mimetype": "text/x-python",
   "name": "python",
   "nbconvert_exporter": "python",
   "pygments_lexer": "ipython3",
   "version": "3.12.7"
  }
 },
 "nbformat": 4,
 "nbformat_minor": 5
}
